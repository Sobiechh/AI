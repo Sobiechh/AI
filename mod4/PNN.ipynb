{
 "cells": [
  {
   "cell_type": "code",
   "execution_count": 1,
   "metadata": {},
   "outputs": [],
   "source": [
    "%store -r img\n",
    "%store -r label_im\n",
    "\n"
   ]
  },
  {
   "cell_type": "code",
   "execution_count": 2,
   "metadata": {},
   "outputs": [],
   "source": [
    "import pandas as pd\n",
    "import matplotlib.pyplot as plt\n",
    "import math\n",
    "import numpy as np\n",
    "import operator"
   ]
  },
  {
   "cell_type": "code",
   "execution_count": 3,
   "metadata": {},
   "outputs": [],
   "source": [
    "df1 = pd.DataFrame(img)\n",
    "df2 = pd.DataFrame(label_im)"
   ]
  },
  {
   "cell_type": "code",
   "execution_count": 4,
   "metadata": {},
   "outputs": [],
   "source": [
    "df1.to_csv('data1.csv')\n",
    "df2.to_csv('data2.csv')"
   ]
  },
  {
   "cell_type": "code",
   "execution_count": 5,
   "metadata": {},
   "outputs": [
    {
     "name": "stdout",
     "output_type": "stream",
     "text": [
      "[[1.3402591  1.11835043 0.84917522 ... 0.93265081 1.24908863 1.09093584]\n",
      " [1.21343102 0.99436169 1.16849132 ... 0.92042346 0.97838934 1.25777305]\n",
      " [0.90491958 1.04551978 1.2134488  ... 1.22457187 0.6724105  0.73630889]\n",
      " ...\n",
      " [1.35012671 0.71413992 0.86774857 ... 1.24166848 1.48377337 1.21707829]\n",
      " [0.6036591  1.14383236 1.25715424 ... 1.01868606 0.92869569 1.07134615]\n",
      " [0.91703118 1.19136852 1.15767585 ... 0.74942174 1.16642039 1.14876604]]\n"
     ]
    }
   ],
   "source": [
    "import numpy as np\n",
    "\n",
    "\n",
    "from sklearn.metrics import accuracy_score,confusion_matrix,precision_score, recall_score\n",
    "\n",
    "\n",
    "#funkcja gaussa\n",
    "def rbf(centre, x, sigma):\n",
    "    centre = centre.reshape(1, -1)\n",
    "    temp = -np.sum((centre - x) ** 2, axis = 1)\n",
    "    temp = temp / (2 * sigma * sigma)\n",
    "    temp = np.exp(temp)\n",
    "    gaussian = np.sum(temp)\n",
    "    \n",
    "    return gaussian\n",
    "\n",
    "\n",
    "\n",
    "def subset_by_class(data, labels):\n",
    "    \n",
    "    x_train_subsets = []\n",
    "    \n",
    "    for l in labels:\n",
    "        indices = np.where(data['y_train'] == l)\n",
    "        x_train_subsets.append(data['x_train'][indices, :])\n",
    "\n",
    "    return x_train_subsets\n",
    "\n",
    "\n",
    "def PNN(data):\n",
    "\n",
    "    num_testset = data['x_test'].shape[0]\n",
    "    labels = np.unique(data['y_train'])\n",
    "    num_class = len(labels)\n",
    "\n",
    "    #ustawienie sig\n",
    "    sigma = 10\n",
    "    \n",
    "    #trenowanie kolumn\n",
    "    x_train_subsets = subset_by_class(data, labels)\t\n",
    "\n",
    "    summation_layer = np.zeros(num_class)\n",
    "    \n",
    "    #przewidyuwanie do zera\n",
    "    predictions = np.zeros(num_testset)\n",
    "\n",
    "    for i, test_point in enumerate(data['x_test']):\n",
    "        #lecimy po testaach z x\n",
    "        for j, subset in enumerate(x_train_subsets):\n",
    "            summation_layer[j] = np.sum(\n",
    "                rbf(test_point, subset[0], sigma)) / subset[0].shape[0] \n",
    "        \n",
    "        predictions[i] = np.argmax(summation_layer)\n",
    "    \n",
    "    return predictions\n",
    "\n",
    "\n",
    "def print_metrics(y_test, predictions):\n",
    "    \n",
    "    print('Macierze')\n",
    "    print(confusion_matrix(y_test, predictions))\n",
    "    print('Aktualne: {}'.format(accuracy_score(y_test, predictions)))\n",
    "    print('Dokladnosc: {}'.format(precision_score(y_test, predictions, average = 'micro')))\n",
    "    print('Odwolanie: {}'.format(recall_score(y_test, predictions, average = 'micro')))\n",
    "\n",
    "print(img)"
   ]
  }
 ],
 "metadata": {
  "kernelspec": {
   "display_name": "Python 3",
   "language": "python",
   "name": "python3"
  },
  "language_info": {
   "codemirror_mode": {
    "name": "ipython",
    "version": 3
   },
   "file_extension": ".py",
   "mimetype": "text/x-python",
   "name": "python",
   "nbconvert_exporter": "python",
   "pygments_lexer": "ipython3",
   "version": "3.7.6"
  }
 },
 "nbformat": 4,
 "nbformat_minor": 4
}
