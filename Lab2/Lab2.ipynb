{
 "cells": [
  {
   "cell_type": "markdown",
   "metadata": {},
   "source": [
    "# Zadania do rozwiązania\n",
    "\n",
    "Przedstawić pojęcia zbioru miękkiego, podzbioru miękkiego, tabeli binarnej relacji w zbiorze, wnioskowanie.\n",
    "\n",
    "*Dla zbioru parametrów opisujących spodnie \n",
    "E={drogie, tanie, jeans, dresowe, klasyczne, modern, fit, granatowe, czarne, na zamek, na guziki} klient chce kupić towar spełniający jego oczekiwania. Przeprowadź wnioskowania na zasadzie zbioru miękkiego jeśli z dostępnych spodni klienci wybierają A={jeans, modern, na zamek}, B={jeans, klasyczne, granatowe, na guziki}. Z dostępnych spodni, pan X musi wybrać spełniające wszystkie lub maksymalną liczbę parametrów miękkiego zbioru.\n",
    "\n",
    "\n",
    "*Dla zbioru parametrów opisujących warzywa \n",
    "E={świeże, mrożone, ostre, słodkie, zielone, czerwone, lokalne, tropikalne, liściaste, bulwowe} klient chce kupić towar spełniający jego oczekiwania. Przeprowadź wnioskowania na zasadzie zbioru miękkiego jeśli z dostępnych warzyw klienci wybierają A={świeże, ostre, czerwone}, B={mrożone, zielone, słodkie, liściaste}, C={świeże, zielone, czerwone, słodkie}. Z dostępnych warzyw, pan X musi wybrać spełniające wszystkie lub maksymalną liczbę parametrów miękkiego zbioru.\n",
    " \n",
    "\n",
    "Zadania do zaimplementowania:\n",
    " Zaimplementować oba powyższe systemy wnioskowania zbioru miękkiego."
   ]
  },
  {
   "cell_type": "code",
   "execution_count": 18,
   "metadata": {},
   "outputs": [
    {
     "name": "stdout",
     "output_type": "stream",
     "text": [
      "Wagi: {'jeans': 0.9, 'modern': 0.3, 'na_zamek': 1}  -->  [1.3, 1.9, 0.3, 1.3, 2.2, 1.0, 1.3]\n",
      "Wybrane spodnie to:\n",
      "dres\n",
      "lewisy\n",
      "dres\n",
      "casual\n",
      "robocze\n",
      "dres\n",
      "--------------------------------------------------------------------------------------------------------------------------------------------------------------------------------------------------------\n",
      "Wagi: {'jeans': 0.1, 'klasyczne': 0.1, 'granatowe': 0.8, 'na_guziki': 0.3}  -->  [0.8, 0.2, 0.4, 1.2, 1.0, 1.1, 0.1]\n",
      "Wybrane spodnie to:\n",
      "kant\n",
      "casual\n",
      "robocze\n",
      "--------------------------------------------------------------------------------------------------------------------------------------------------------------------------------------------------------\n",
      "Wagi: {'drogie': 1, 'granatowe': 0.3, 'na_guziki': 0.1, 'czarne': 1, 'modern': 1}  -->  [1.3, 2.0, 3.1, 2.4000000000000004, 1.3, 0.4, 3.0]\n",
      "Wybrane spodnie to:\n",
      "dres\n",
      "lewisy\n",
      "gucci\n",
      "kant\n",
      "dres\n",
      "randka\n"
     ]
    }
   ],
   "source": [
    "# ----------- spodnie -------------\n",
    "class Spodnie:\n",
    "    def __init__(self, nazwa, drogie, tanie, jeans, dresowe, klasyczne, modern, fit, granatowe, czarne, na_zamek,\n",
    "                 na_guziki):\n",
    "        \"\"\"\n",
    "\n",
    "        :rtype: object\n",
    "        \"\"\"\n",
    "        self.nazwa = nazwa \n",
    "        self.drogie = drogie #1\n",
    "        self.tanie = tanie #2\n",
    "        self.jeans = jeans #3\n",
    "        self.dresowe = dresowe #4\n",
    "        self.klasyczne = klasyczne #5\n",
    "        self.modern = modern #6\n",
    "        self.fit = fit #7\n",
    "        self.granatowe = granatowe #8\n",
    "        self.czarne = czarne #9\n",
    "        self.na_zamek = na_zamek #10\n",
    "        self.na_guziki = na_guziki #11\n",
    "\n",
    "                            #drogie   #tanie  #jeans  #dresowe   #klasyk    #modern   #fit     #granat   #czarne   #zamek    #guzik\n",
    "dres    = Spodnie(\"dres\",       0,      1,      0,      1,        0,         1,         1,        1,       0,        1,        0)\n",
    "levisy  = Spodnie(\"lewisy\",     1,      0,      1,      0,        1,         0,         1,        0,       1,        1,        0)\n",
    "gucci   = Spodnie(\"gucci\",      1,      0,      0,      1,        1,         1,         1,        0,       1,        0,        1)\n",
    "kant    = Spodnie(\"kant\",       1,      0,      0,      0,        1,         1,         1,        1,       0,        1,        1)\n",
    "casual  = Spodnie(\"casual\",     0,      1,      1,      0,        1,         1,         0,        1,       0,        1,        0)\n",
    "robocze = Spodnie(\"robocze\",    0,      1,      0,      1,        0,         0,         0,        1,       0,        1,        1)\n",
    "rankda  = Spodnie(\"randka\",     1,      0,      0,      0,        1,         1,         1,        0,       1,        1,        0)\n",
    "\n",
    "stuff = [dres, levisy, gucci, kant, casual, robocze, rankda]\n",
    "\n",
    "klient_A =  {\"jeans\": 0.9,  \"modern\": 0.3,      \"na_zamek\": 1}\n",
    "klient_B =  {\"jeans\": 0.1,  \"klasyczne\": 0.1,   \"granatowe\": 0.8,   \"na_guziki\":0.3}\n",
    "klient_C =  {\"drogie\": 1,        \"granatowe\": 0.3,   \"na_guziki\":0.1,    \"czarne\": 1,    \"modern\": 1}\n",
    "\n",
    "\n",
    "def dopasuj(klient):\n",
    "    waga = [0] * len(stuff)\n",
    "    for x in range(len(stuff)):\n",
    "        for key in klient:\n",
    "            waga[x] += klient[key] *(stuff[x].__getattribute__(key))\n",
    "    print(f\"Wagi: {klient}  -->  { waga.__str__() }\")\n",
    "    odp = stuff[waga.index(max(waga))]\n",
    "    print(f\"Wybrane spodnie to:\")\n",
    "    for x in waga:\n",
    "        if x>=1:\n",
    "            print(stuff[waga.index(x)].nazwa)\n",
    "\n",
    "dopasuj(klient_A)\n",
    "print(\"-\"*200)\n",
    "dopasuj(klient_B)\n",
    "print(\"-\"*200)\n",
    "dopasuj(klient_C)"
   ]
  },
  {
   "cell_type": "code",
   "execution_count": null,
   "metadata": {},
   "outputs": [],
   "source": []
  }
 ],
 "metadata": {
  "kernelspec": {
   "display_name": "Python 3",
   "language": "python",
   "name": "python3"
  },
  "language_info": {
   "codemirror_mode": {
    "name": "ipython",
    "version": 3
   },
   "file_extension": ".py",
   "mimetype": "text/x-python",
   "name": "python",
   "nbconvert_exporter": "python",
   "pygments_lexer": "ipython3",
   "version": "3.7.4"
  }
 },
 "nbformat": 4,
 "nbformat_minor": 4
}
