{
 "cells": [
  {
   "cell_type": "markdown",
   "metadata": {},
   "source": [
    "# Zadanie 1"
   ]
  },
  {
   "cell_type": "code",
   "execution_count": 1,
   "metadata": {},
   "outputs": [],
   "source": [
    "from random import shuffle"
   ]
  },
  {
   "cell_type": "code",
   "execution_count": 2,
   "metadata": {},
   "outputs": [],
   "source": [
    "path = 'processed.hungarian.data' #sciezka do bazy, która w sumie jest w tym samym folderze"
   ]
  },
  {
   "cell_type": "code",
   "execution_count": 3,
   "metadata": {},
   "outputs": [],
   "source": [
    "data = [] #tablica gdzie bedziemy przechowywać dane\n",
    "with open(path,'r') as file_o: #otwieramy plik\n",
    "    line = file_o.readline() \n",
    "    while line:\n",
    "        tab = [float('NaN') if x=='?' else x  for x in (line.rstrip().split(','))] #znaki zapytania zastepuje float('nan')\n",
    "        data.append(tab)\n",
    "        line = file_o.readline()"
   ]
  },
  {
   "cell_type": "code",
   "execution_count": 4,
   "metadata": {
    "tags": [
     "outputPrepend"
    ]
   },
   "outputs": [
    {
     "name": "stdout",
     "output_type": "stream",
     "text": [
      "['28', '1', '2', '130', '132', '0', '2', '185', '0', '0', nan, nan, nan, '0']\n",
      "['29', '1', '2', '120', '243', '0', '0', '160', '0', '0', nan, nan, nan, '0']\n",
      "['29', '1', '2', '140', nan, '0', '0', '170', '0', '0', nan, nan, nan, '0']\n",
      "['30', '0', '1', '170', '237', '0', '1', '170', '0', '0', nan, nan, '6', '0']\n",
      "['31', '0', '2', '100', '219', '0', '1', '150', '0', '0', nan, nan, nan, '0']\n"
     ]
    }
   ],
   "source": [
    "for i,line in enumerate(data): #wysietlenie bazy pogladowe\n",
    "    if i<5:\n",
    "        print(line) "
   ]
  },
  {
   "cell_type": "code",
   "execution_count": 5,
   "metadata": {},
   "outputs": [],
   "source": [
    "def normalize(x): #funkcja normalizujaca\n",
    "    mininum = min(x) \n",
    "    maximum = max(x)\n",
    "    range = maximum - mininum\n",
    "    return [ round( ( (a - mininum) / range) , 4) for a in x] #zwracaamy znormalizowana tablice"
   ]
  },
  {
   "cell_type": "code",
   "execution_count": 6,
   "metadata": {},
   "outputs": [],
   "source": [
    "matrix= [] #tworzyymy macierz danych, poczatkowo beda zamienione wiersze z kolumnami, co potem musimy uwzględnic\n",
    "for i in range(len(data[0])):\n",
    "    curry_column = [] #tworzymy pomocnicza liste ktora bedzie przechowywala obecna kolumne\n",
    "    for j in range(len(data)):\n",
    "        curry_column.append(float(data[j][i]))\n",
    "    curry_column=normalize(curry_column) #wywoalnie normalizacji kolumny\n",
    "    matrix.append(curry_column) #dodajemmy do macierzy kolumne w miejsce wiersza"
   ]
  },
  {
   "cell_type": "code",
   "execution_count": 7,
   "metadata": {
    "tags": [
     "outputPrepend"
    ]
   },
   "outputs": [
    {
     "name": "stdout",
     "output_type": "stream",
     "text": [
      "[0.0, 1.0, 0.3333, 0.3519, 0.0907, 0.0, 1.0, 0.9537, 0.0, 0.0, nan, nan, nan, 0.0]\n",
      "[0.0263, 1.0, 0.3333, 0.2593, 0.305, 0.0, 0.0, 0.7222, 0.0, 0.0, nan, nan, nan, 0.0]\n",
      "[0.0263, 1.0, 0.3333, 0.4444, nan, 0.0, 0.0, 0.8148, 0.0, 0.0, nan, nan, nan, 0.0]\n",
      "[0.0526, 0.0, 0.0, 0.7222, 0.2934, 0.0, 0.5, 0.8148, 0.0, 0.0, nan, nan, nan, 0.0]\n",
      "[0.0789, 0.0, 0.3333, 0.0741, 0.2587, 0.0, 0.5, 0.6296, 0.0, 0.0, nan, nan, nan, 0.0]\n"
     ]
    }
   ],
   "source": [
    "t_matrix = list(zip(*matrix)) #transponowanie macierzy\n",
    "\n",
    "for i, line in enumerate(t_matrix): #testowe wyswietlenie\n",
    "    if i<5:\n",
    "        print(list(line))"
   ]
  },
  {
   "cell_type": "code",
   "execution_count": 8,
   "metadata": {},
   "outputs": [],
   "source": [
    "shuffle(t_matrix) #tasujemy "
   ]
  },
  {
   "cell_type": "code",
   "execution_count": 9,
   "metadata": {},
   "outputs": [],
   "source": [
    "train_data=open(\"C:/Users/User/Desktop/AI/kolos/train_data.data\",'w') #baza uczaca"
   ]
  },
  {
   "cell_type": "code",
   "execution_count": 10,
   "metadata": {},
   "outputs": [],
   "source": [
    "train_size=0.95*len(t_matrix) #ustalamy 80% na baze uczaca\n",
    "for i in range(int(len(t_matrix))): #petla ktora doda nam wiersze do odpowiednich baz\n",
    "    if(i < int(train_size)):\n",
    "        train_data.write(str(t_matrix[i])[1:-1] + \"\\n\")\n"
   ]
  },
  {
   "cell_type": "code",
   "execution_count": 11,
   "metadata": {},
   "outputs": [],
   "source": [
    "train_data.close()"
   ]
  },
  {
   "cell_type": "code",
   "execution_count": 12,
   "metadata": {},
   "outputs": [],
   "source": [
    "test_data=open(\"C:/Users/User/Desktop/AI/kolos/test_data.data\",'w')   #baza testowa"
   ]
  },
  {
   "cell_type": "code",
   "execution_count": 13,
   "metadata": {},
   "outputs": [],
   "source": [
    "for i in range(int(len(t_matrix))):\n",
    "    if(i > int(train_size)):\n",
    "        train_data.close()\n",
    "        test_data.write(str(t_matrix[i])[1:-1] + \"\\n\")"
   ]
  },
  {
   "cell_type": "code",
   "execution_count": 14,
   "metadata": {},
   "outputs": [],
   "source": [
    "test_data.close()"
   ]
  }
 ],
 "metadata": {
  "kernelspec": {
   "display_name": "Python 3",
   "language": "python",
   "name": "python3"
  },
  "language_info": {
   "codemirror_mode": {
    "name": "ipython",
    "version": 3
   },
   "file_extension": ".py",
   "mimetype": "text/x-python",
   "name": "python",
   "nbconvert_exporter": "python",
   "pygments_lexer": "ipython3",
   "version": "3.7.6"
  }
 },
 "nbformat": 4,
 "nbformat_minor": 4
}
